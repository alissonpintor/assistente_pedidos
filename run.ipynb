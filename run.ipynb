{
 "cells": [
  {
   "cell_type": "code",
   "execution_count": 2,
   "metadata": {},
   "outputs": [],
   "source": [
    "from dotenv import load_dotenv\n",
    "import pandas as pd\n",
    "from datetime import date, datetime\n",
    "from src.model.repositorios.xls.movimentacao_estoque import MovimentacaoDeEstoqueXls"
   ]
  },
  {
   "cell_type": "code",
   "execution_count": null,
   "metadata": {},
   "outputs": [],
   "source": [
    "load_dotenv()"
   ]
  },
  {
   "cell_type": "code",
   "execution_count": 4,
   "metadata": {},
   "outputs": [],
   "source": [
    "mov_estoque = MovimentacaoDeEstoqueXls()"
   ]
  },
  {
   "cell_type": "code",
   "execution_count": 5,
   "metadata": {},
   "outputs": [],
   "source": [
    "dt_inicial = datetime(2024, 1, 1)\n",
    "dt_final = datetime(2024, 8, 30)\n",
    "\n",
    "mov = mov_estoque.buscar_movimentacao(dt_inicial=dt_inicial, dt_final=dt_final)"
   ]
  },
  {
   "cell_type": "markdown",
   "metadata": {},
   "source": [
    "### Carregando o Dataset\n",
    "\n",
    "Vendas = 'NVD'\n",
    "Pedidos de Venda = 'PVD'\n",
    "Pedidos de Compra 'PCP'\n",
    "Compras 'C' = 'NCP'\n",
    "Devoluções de compra = 'DCP'\n",
    "Devoluções de venda = 'DVD'"
   ]
  },
  {
   "cell_type": "code",
   "execution_count": 3,
   "metadata": {},
   "outputs": [],
   "source": [
    "df = pd.read_csv('data.csv')"
   ]
  },
  {
   "cell_type": "code",
   "execution_count": 4,
   "metadata": {},
   "outputs": [],
   "source": [
    "df['descricao'] = df['descricao'].str.capitalize()\n",
    "df['marca'] = df['marca'].str.capitalize()\n",
    "\n",
    "# df['tipo_movimento'] = df['tipo_movimento'].str.capitalize()\n",
    "df['segmento'] = df['segmento'].str.capitalize()\n",
    "df['cidade'] = df['cidade'].str.capitalize()\n",
    "df['secao'] = df['secao'].str.capitalize()\n",
    "df['grupo'] = df['grupo'].str.capitalize()\n",
    "\n",
    "df['data_movimento'] = pd.to_datetime(df['data_movimento'], format='%d/%m/%Y %H:%M:%S')\n",
    "df['valor_total'] = df['qtd_negociada'] * (df['vlr_unitario'] - df['vlr_desconto'])"
   ]
  },
  {
   "cell_type": "code",
   "execution_count": null,
   "metadata": {},
   "outputs": [],
   "source": [
    "df.sort_values('data_movimento', ascending=False)\n",
    "df.head()"
   ]
  },
  {
   "cell_type": "code",
   "execution_count": 4,
   "metadata": {},
   "outputs": [],
   "source": [
    "columns_names: set = {\n",
    "        'nro_documento',\n",
    "        'tipo_movimento',\n",
    "        'cod_parceiro',\n",
    "        'segmento',\n",
    "        'data_movimento',\n",
    "        'cidade',\n",
    "        'cod_produto',\n",
    "        'descricao',\n",
    "        'marca',\n",
    "        'secao',\n",
    "        'grupo',\n",
    "        'qtd_negociada',\n",
    "        'vlr_unitario',\n",
    "        'vlr_desconto'\n",
    "    }"
   ]
  },
  {
   "cell_type": "code",
   "execution_count": null,
   "metadata": {},
   "outputs": [],
   "source": [
    "{item: item in df.columns for item in columns_names}"
   ]
  },
  {
   "cell_type": "code",
   "execution_count": null,
   "metadata": {},
   "outputs": [],
   "source": [
    "df[(df['tipo_movimento'] == 'V') & (df['data_movimento'].between(datetime(2024,9,14), datetime(2024,9,16), inclusive='neither'))].sort_values('data_movimento', ascending=False)"
   ]
  },
  {
   "cell_type": "code",
   "execution_count": null,
   "metadata": {},
   "outputs": [],
   "source": [
    "#df_marca = df[df['tipo_movimento'] == 'V'].groupby(['marca'])[['qtd_negociada', 'vlr_unitario']].sum().reset_index()\n",
    "\n",
    "df_marca = df[(df['tipo_movimento'] == 'V') & (df['data_movimento'].between(datetime(2024,9,15), datetime(2024,9,17)))]\\\n",
    "    .groupby(['marca'])\\\n",
    "    .agg({'nro_documento': 'nunique', 'qtd_negociada': 'sum', 'vlr_unitario': 'sum'})\\\n",
    "    .sort_values('vlr_unitario', ascending=False)\\\n",
    "    .reset_index()\n",
    "\n",
    "df_marca['vlr_unitario'] = df_marca['vlr_unitario'].apply(lambda x: round(x, 2))\n",
    "df_marca"
   ]
  },
  {
   "cell_type": "markdown",
   "metadata": {},
   "source": [
    "### Calendario"
   ]
  },
  {
   "cell_type": "code",
   "execution_count": 15,
   "metadata": {},
   "outputs": [
    {
     "data": {
      "text/plain": [
       "<method-wrapper '__contains__' of list object at 0x0000020005CCDC80>"
      ]
     },
     "execution_count": 15,
     "metadata": {},
     "output_type": "execute_result"
    }
   ],
   "source": [
    "from workalendar.america import Brazil\n",
    "cal = Brazil()\n",
    "\n",
    "\n",
    "dt_inicial = date(2024,1,1)\n",
    "dt_final = date(2024,6,30)\n",
    "cal.get_working_days_delta(dt_inicial, dt_final)\n",
    "\n",
    "cal.holidays(2024).__contains__"
   ]
  },
  {
   "cell_type": "code",
   "execution_count": 16,
   "metadata": {},
   "outputs": [
    {
     "data": {
      "text/plain": [
       "dtype('<M8[ns]')"
      ]
     },
     "execution_count": 16,
     "metadata": {},
     "output_type": "execute_result"
    }
   ],
   "source": [
    "dates = pd.date_range(start='2024-01-01', end='2024-06-30')\n",
    "calendar = pd.DataFrame(None, dates.rename('date'), 'dia mes ano semana dia_semana dia_util'.split())\n",
    "calendar.dropna()\n",
    "\n",
    "calendar = calendar.assign(\n",
    "    dia=dates.day,\n",
    "    mes=dates.month,\n",
    "    ano=dates.year,\n",
    "    dia_semana=dates.day_of_week,\n",
    "    dia_util=calendar.index.map(cal.is_working_day)\n",
    ")\n",
    "calendar.loc[calendar['dia_semana']==5, ['dia_util']] = True\n",
    "\n",
    "iso = dates.isocalendar()\n",
    "calendar = calendar.assign(semana=iso.week)\n",
    "\n",
    "calendar.index.dtype"
   ]
  },
  {
   "cell_type": "code",
   "execution_count": null,
   "metadata": {},
   "outputs": [],
   "source": [
    "dta_inicial = pd.Timestamp(date(2024,8,1))\n",
    "dta_final = pd.Timestamp(date(2024,8,15))\n",
    "len(calendar[calendar['dia_util'] == True].loc[dta_inicial:dta_final])"
   ]
  },
  {
   "cell_type": "markdown",
   "metadata": {},
   "source": [
    "### Produtos"
   ]
  },
  {
   "cell_type": "code",
   "execution_count": 22,
   "metadata": {},
   "outputs": [
    {
     "data": {
      "text/html": [
       "<div>\n",
       "<style scoped>\n",
       "    .dataframe tbody tr th:only-of-type {\n",
       "        vertical-align: middle;\n",
       "    }\n",
       "\n",
       "    .dataframe tbody tr th {\n",
       "        vertical-align: top;\n",
       "    }\n",
       "\n",
       "    .dataframe thead th {\n",
       "        text-align: right;\n",
       "    }\n",
       "</style>\n",
       "<table border=\"1\" class=\"dataframe\">\n",
       "  <thead>\n",
       "    <tr style=\"text-align: right;\">\n",
       "      <th></th>\n",
       "      <th>segmento</th>\n",
       "      <th>cod_produto</th>\n",
       "      <th>descricao</th>\n",
       "      <th>marca</th>\n",
       "      <th>nro_documento</th>\n",
       "      <th>qtd_negociada</th>\n",
       "      <th>valor_total</th>\n",
       "      <th>perc_vendas</th>\n",
       "      <th>valor_total_acu</th>\n",
       "      <th>perc_vendas_acu</th>\n",
       "      <th>curva_abc_valor</th>\n",
       "      <th>curva_abc_vendas</th>\n",
       "      <th>qtd_media_diaria</th>\n",
       "    </tr>\n",
       "  </thead>\n",
       "  <tbody>\n",
       "    <tr>\n",
       "      <th>24097</th>\n",
       "      <td>Materiais para construção</td>\n",
       "      <td>31615</td>\n",
       "      <td>Luva p/eletr. 1/2 (5)</td>\n",
       "      <td>Krona</td>\n",
       "      <td>10</td>\n",
       "      <td>325.0</td>\n",
       "      <td>266.75</td>\n",
       "      <td>3.290666e-06</td>\n",
       "      <td>77762583.64</td>\n",
       "      <td>0.959290</td>\n",
       "      <td>C</td>\n",
       "      <td></td>\n",
       "      <td>2.0</td>\n",
       "    </tr>\n",
       "    <tr>\n",
       "      <th>34464</th>\n",
       "      <td>Material hidráulico / elétrico</td>\n",
       "      <td>31615</td>\n",
       "      <td>Luva p/eletr. 1/2 (5)</td>\n",
       "      <td>Krona</td>\n",
       "      <td>5</td>\n",
       "      <td>150.0</td>\n",
       "      <td>126.70</td>\n",
       "      <td>1.562989e-06</td>\n",
       "      <td>79696763.27</td>\n",
       "      <td>0.983151</td>\n",
       "      <td>C</td>\n",
       "      <td></td>\n",
       "      <td>1.0</td>\n",
       "    </tr>\n",
       "    <tr>\n",
       "      <th>56227</th>\n",
       "      <td>Produtos agropecuários</td>\n",
       "      <td>31615</td>\n",
       "      <td>Luva p/eletr. 1/2 (5)</td>\n",
       "      <td>Krona</td>\n",
       "      <td>2</td>\n",
       "      <td>15.0</td>\n",
       "      <td>12.50</td>\n",
       "      <td>1.542018e-07</td>\n",
       "      <td>81052075.34</td>\n",
       "      <td>0.999870</td>\n",
       "      <td>C</td>\n",
       "      <td></td>\n",
       "      <td>0.0</td>\n",
       "    </tr>\n",
       "    <tr>\n",
       "      <th>57341</th>\n",
       "      <td>Auto-peças e acessórios</td>\n",
       "      <td>31615</td>\n",
       "      <td>Luva p/eletr. 1/2 (5)</td>\n",
       "      <td>Krona</td>\n",
       "      <td>1</td>\n",
       "      <td>5.0</td>\n",
       "      <td>4.30</td>\n",
       "      <td>5.304541e-08</td>\n",
       "      <td>81062161.83</td>\n",
       "      <td>0.999994</td>\n",
       "      <td>C</td>\n",
       "      <td></td>\n",
       "      <td>0.0</td>\n",
       "    </tr>\n",
       "    <tr>\n",
       "      <th>57342</th>\n",
       "      <td>Ferragens e ferramentas</td>\n",
       "      <td>31615</td>\n",
       "      <td>Luva p/eletr. 1/2 (5)</td>\n",
       "      <td>Krona</td>\n",
       "      <td>1</td>\n",
       "      <td>5.0</td>\n",
       "      <td>4.30</td>\n",
       "      <td>5.304541e-08</td>\n",
       "      <td>81062166.13</td>\n",
       "      <td>0.999994</td>\n",
       "      <td>C</td>\n",
       "      <td></td>\n",
       "      <td>0.0</td>\n",
       "    </tr>\n",
       "  </tbody>\n",
       "</table>\n",
       "</div>"
      ],
      "text/plain": [
       "                             segmento  cod_produto              descricao  \\\n",
       "24097       Materiais para construção        31615  Luva p/eletr. 1/2 (5)   \n",
       "34464  Material hidráulico / elétrico        31615  Luva p/eletr. 1/2 (5)   \n",
       "56227          Produtos agropecuários        31615  Luva p/eletr. 1/2 (5)   \n",
       "57341         Auto-peças e acessórios        31615  Luva p/eletr. 1/2 (5)   \n",
       "57342         Ferragens e ferramentas        31615  Luva p/eletr. 1/2 (5)   \n",
       "\n",
       "       marca  nro_documento  qtd_negociada  valor_total   perc_vendas  \\\n",
       "24097  Krona             10          325.0       266.75  3.290666e-06   \n",
       "34464  Krona              5          150.0       126.70  1.562989e-06   \n",
       "56227  Krona              2           15.0        12.50  1.542018e-07   \n",
       "57341  Krona              1            5.0         4.30  5.304541e-08   \n",
       "57342  Krona              1            5.0         4.30  5.304541e-08   \n",
       "\n",
       "       valor_total_acu  perc_vendas_acu curva_abc_valor curva_abc_vendas  \\\n",
       "24097      77762583.64         0.959290               C                    \n",
       "34464      79696763.27         0.983151               C                    \n",
       "56227      81052075.34         0.999870               C                    \n",
       "57341      81062161.83         0.999994               C                    \n",
       "57342      81062166.13         0.999994               C                    \n",
       "\n",
       "       qtd_media_diaria  \n",
       "24097               2.0  \n",
       "34464               1.0  \n",
       "56227               0.0  \n",
       "57341               0.0  \n",
       "57342               0.0  "
      ]
     },
     "execution_count": 22,
     "metadata": {},
     "output_type": "execute_result"
    }
   ],
   "source": [
    "dta_inicial = pd.Timestamp(date(2024,1,1))\n",
    "dta_final = pd.Timestamp(date(2024,6,30))\n",
    "dias_uteis = len(calendar[calendar['dia_util'] == True].loc[dta_inicial:dta_final])\n",
    "\n",
    "df_produtos = df[(df['tipo_movimento'] == 'NVD') & (df['data_movimento'].between(datetime(2024,1,1), datetime(2024,6,30)))]\\\n",
    "    .groupby(['segmento', 'cod_produto', 'descricao', 'marca'])\\\n",
    "    .agg({'nro_documento': 'nunique', 'qtd_negociada': 'sum', 'valor_total': 'sum'})\\\n",
    "    .sort_values('valor_total', ascending=False)\\\n",
    "    .reset_index()\n",
    "\n",
    "df_produtos['perc_vendas'] = df_produtos[['valor_total']] / df_produtos[['valor_total']].sum()\n",
    "\n",
    "total = round(df_produtos[['valor_total']].sum(), 2)\n",
    "df_produtos['valor_total_acu'] = round(df_produtos['valor_total'].cumsum(), 2)\n",
    "\n",
    "df_produtos['perc_vendas_acu'] = df_produtos[['perc_vendas']].cumsum()\n",
    "\n",
    "df_produtos['curva_abc_valor'] = ''\n",
    "df_produtos['curva_abc_vendas'] = ''\n",
    "#df_produtos[df_produtos['perc_vendas_acu'] <= 0.20]['curva_abc'] = 'A'\n",
    "\n",
    "df_produtos.loc[df_produtos['perc_vendas_acu'] <= 0.20, ['curva_abc_valor']] = 'A'\n",
    "df_produtos.loc[df_produtos['perc_vendas_acu'].between(0.20, 0.50), ['curva_abc_valor']] = 'B'\n",
    "df_produtos.loc[df_produtos['perc_vendas_acu'] > 0.50, ['curva_abc_valor']] = 'C'\n",
    "\n",
    "df_produtos['qtd_media_diaria'] = round(df_produtos['qtd_negociada'] / dias_uteis, 0)\n",
    "#df_produtos[df_produtos['marca'].str.lower() == 'krona']\n",
    "df_produtos[df_produtos['cod_produto'] == 31615]"
   ]
  }
 ],
 "metadata": {
  "kernelspec": {
   "display_name": ".venv",
   "language": "python",
   "name": "python3"
  },
  "language_info": {
   "codemirror_mode": {
    "name": "ipython",
    "version": 3
   },
   "file_extension": ".py",
   "mimetype": "text/x-python",
   "name": "python",
   "nbconvert_exporter": "python",
   "pygments_lexer": "ipython3",
   "version": "3.12.0"
  }
 },
 "nbformat": 4,
 "nbformat_minor": 2
}
