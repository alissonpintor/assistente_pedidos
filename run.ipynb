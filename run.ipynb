{
 "cells": [
  {
   "cell_type": "code",
   "execution_count": 2,
   "metadata": {},
   "outputs": [],
   "source": [
    "from dotenv import load_dotenv\n",
    "import pandas as pd\n",
    "from datetime import date, datetime\n",
    "from src.model.repositorios.xls.movimentacao_estoque import MovimentacaoDeEstoqueXls"
   ]
  },
  {
   "cell_type": "code",
   "execution_count": null,
   "metadata": {},
   "outputs": [],
   "source": [
    "load_dotenv()"
   ]
  },
  {
   "cell_type": "code",
   "execution_count": 4,
   "metadata": {},
   "outputs": [],
   "source": [
    "mov_estoque = MovimentacaoDeEstoqueXls()"
   ]
  },
  {
   "cell_type": "code",
   "execution_count": 5,
   "metadata": {},
   "outputs": [],
   "source": [
    "dt_inicial = datetime(2024, 1, 1)\n",
    "dt_final = datetime(2024, 8, 30)\n",
    "\n",
    "mov = mov_estoque.buscar_movimentacao(dt_inicial=dt_inicial, dt_final=dt_final)"
   ]
  },
  {
   "cell_type": "code",
   "execution_count": null,
   "metadata": {},
   "outputs": [],
   "source": [
    "df = pd.read_csv('data.csv')\n",
    "\n",
    "df['descricao'] = df['descricao'].str.capitalize()\n",
    "df['marca'] = df['marca'].str.capitalize()\n",
    "df['data_movimento'] = pd.to_datetime(df['data_movimento'], format='%d/%m/%Y %H:%M:%S')\n",
    "df['valor_total'] = df['qtd_negociada'] * (df['vlr_unitario'] - df['vlr_desconto'])\n",
    "\n",
    "df"
   ]
  },
  {
   "cell_type": "code",
   "execution_count": 6,
   "metadata": {},
   "outputs": [],
   "source": [
    "columns_names: set = {\n",
    "        'nro_documento',\n",
    "        'tipo_movimento',\n",
    "        'cod_parceiro',\n",
    "        'data_movimento',\n",
    "        'cod_produto',\n",
    "        'descricao',\n",
    "        'marca',\n",
    "        'qtd_negociada',\n",
    "        'vlr_unitario',\n",
    "        'vlr_desconto'\n",
    "    }"
   ]
  },
  {
   "cell_type": "code",
   "execution_count": null,
   "metadata": {},
   "outputs": [],
   "source": [
    "{item: item in df.columns for item in columns_names}"
   ]
  },
  {
   "cell_type": "code",
   "execution_count": null,
   "metadata": {},
   "outputs": [],
   "source": [
    "df[(df['tipo_movimento'] == 'V') & (df['data_movimento'].between(datetime(2024,9,14), datetime(2024,9,16), inclusive='neither'))].sort_values('data_movimento', ascending=False)"
   ]
  },
  {
   "cell_type": "code",
   "execution_count": null,
   "metadata": {},
   "outputs": [],
   "source": [
    "#df_marca = df[df['tipo_movimento'] == 'V'].groupby(['marca'])[['qtd_negociada', 'vlr_unitario']].sum().reset_index()\n",
    "\n",
    "df_marca = df[(df['tipo_movimento'] == 'V') & (df['data_movimento'].between(datetime(2024,9,15), datetime(2024,9,17)))]\\\n",
    "    .groupby(['marca'])\\\n",
    "    .agg({'nro_documento': 'nunique', 'qtd_negociada': 'sum', 'vlr_unitario': 'sum'})\\\n",
    "    .sort_values('vlr_unitario', ascending=False)\\\n",
    "    .reset_index()\n",
    "\n",
    "df_marca['vlr_unitario'] = df_marca['vlr_unitario'].apply(lambda x: round(x, 2))\n",
    "df_marca"
   ]
  },
  {
   "cell_type": "markdown",
   "metadata": {},
   "source": [
    "### Produtos"
   ]
  },
  {
   "cell_type": "code",
   "execution_count": null,
   "metadata": {},
   "outputs": [],
   "source": [
    "df_produtos = df[(df['tipo_movimento'] == 'V') & (df['data_movimento'].between(datetime(2024,9,1), datetime(2024,9,15)))]\\\n",
    "    .groupby(['cod_produto', 'descricao', 'marca'])\\\n",
    "    .agg({'nro_documento': 'nunique', 'qtd_negociada': 'sum', 'valor_total': 'sum'})\\\n",
    "    .sort_values('valor_total', ascending=False)\\\n",
    "    .reset_index()\n",
    "\n",
    "df_produtos['perc_vendas'] = df_produtos[['valor_total']] / df_produtos[['valor_total']].sum()\n",
    "\n",
    "total = round(df_produtos[['valor_total']].sum(), 2)\n",
    "df_produtos['valor_total_acu'] = round(df_produtos['valor_total'].cumsum(), 2)\n",
    "\n",
    "df_produtos['perc_vendas_acu'] = df_produtos[['perc_vendas']].cumsum()\n",
    "\n",
    "df_produtos['curva_abc'] = ''\n",
    "\n",
    "df_produtos"
   ]
  }
 ],
 "metadata": {
  "kernelspec": {
   "display_name": ".venv",
   "language": "python",
   "name": "python3"
  },
  "language_info": {
   "codemirror_mode": {
    "name": "ipython",
    "version": 3
   },
   "file_extension": ".py",
   "mimetype": "text/x-python",
   "name": "python",
   "nbconvert_exporter": "python",
   "pygments_lexer": "ipython3",
   "version": "3.12.0"
  }
 },
 "nbformat": 4,
 "nbformat_minor": 2
}
